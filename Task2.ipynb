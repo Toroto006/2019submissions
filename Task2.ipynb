{
  "nbformat": 4,
  "nbformat_minor": 0,
  "metadata": {
    "colab": {
      "name": "Task2.ipynb",
      "provenance": []
    },
    "kernelspec": {
      "name": "python3",
      "display_name": "Python 3"
    }
  },
  "cells": [
    {
      "cell_type": "markdown",
      "metadata": {
        "id": "XwCJDlDblbfn"
      },
      "source": [
        "### Trying to solve Task 2 now!"
      ]
    },
    {
      "cell_type": "markdown",
      "metadata": {
        "id": "tXFcdaT3Ef3w"
      },
      "source": [
        "Maybe take a look at [this](https://towardsdatascience.com/machine-learning-with-datetime-feature-engineering-predicting-healthcare-appointment-no-shows-5e4ca3a85f96) as it is a nice way to show how to handle preprocessing."
      ]
    },
    {
      "cell_type": "code",
      "metadata": {
        "id": "HcZGIepbufoi"
      },
      "source": [
        "import pandas as pd\n",
        "import numpy as np\n",
        "import sklearn.metrics as metrics\n",
        "from sklearn.impute import SimpleImputer, KNNImputer\n",
        "from sklearn.preprocessing import StandardScaler"
      ],
      "execution_count": null,
      "outputs": []
    },
    {
      "cell_type": "code",
      "metadata": {
        "colab": {
          "base_uri": "https://localhost:8080/",
          "height": 100
        },
        "id": "oehqk2wZPnlF",
        "outputId": "23910b16-7552-424e-a9f5-3ac26abe3e42"
      },
      "source": [
        "trainFeatUrl = 'https://raw.githubusercontent.com/Toroto006/iml2021/main/task2/train_features.csv?token=AH44KNVEVSH3VTA527ZEDNLAP34PQ'\n",
        "testFeatUrl = 'https://raw.githubusercontent.com/Toroto006/iml2021/main/task2/test_features.csv?token=AH44KNQTTC3NGV7XAHAG73DAP34PU'\n",
        "trainLblUrl = 'https://raw.githubusercontent.com/Toroto006/iml2021/main/task2/train_labels.csv?token=AH44KNSBRPXVQOSQM6POTHDAP34PM'\n",
        "\n",
        "trainFeatPD_raw = pd.read_csv(trainFeatUrl)\n",
        "trainFeatPD_raw.head(1)"
      ],
      "execution_count": null,
      "outputs": [
        {
          "output_type": "execute_result",
          "data": {
            "text/html": [
              "<div>\n",
              "<style scoped>\n",
              "    .dataframe tbody tr th:only-of-type {\n",
              "        vertical-align: middle;\n",
              "    }\n",
              "\n",
              "    .dataframe tbody tr th {\n",
              "        vertical-align: top;\n",
              "    }\n",
              "\n",
              "    .dataframe thead th {\n",
              "        text-align: right;\n",
              "    }\n",
              "</style>\n",
              "<table border=\"1\" class=\"dataframe\">\n",
              "  <thead>\n",
              "    <tr style=\"text-align: right;\">\n",
              "      <th></th>\n",
              "      <th>pid</th>\n",
              "      <th>Time</th>\n",
              "      <th>Age</th>\n",
              "      <th>EtCO2</th>\n",
              "      <th>PTT</th>\n",
              "      <th>BUN</th>\n",
              "      <th>Lactate</th>\n",
              "      <th>Temp</th>\n",
              "      <th>Hgb</th>\n",
              "      <th>HCO3</th>\n",
              "      <th>BaseExcess</th>\n",
              "      <th>RRate</th>\n",
              "      <th>Fibrinogen</th>\n",
              "      <th>Phosphate</th>\n",
              "      <th>WBC</th>\n",
              "      <th>Creatinine</th>\n",
              "      <th>PaCO2</th>\n",
              "      <th>AST</th>\n",
              "      <th>FiO2</th>\n",
              "      <th>Platelets</th>\n",
              "      <th>SaO2</th>\n",
              "      <th>Glucose</th>\n",
              "      <th>ABPm</th>\n",
              "      <th>Magnesium</th>\n",
              "      <th>Potassium</th>\n",
              "      <th>ABPd</th>\n",
              "      <th>Calcium</th>\n",
              "      <th>Alkalinephos</th>\n",
              "      <th>SpO2</th>\n",
              "      <th>Bilirubin_direct</th>\n",
              "      <th>Chloride</th>\n",
              "      <th>Hct</th>\n",
              "      <th>Heartrate</th>\n",
              "      <th>Bilirubin_total</th>\n",
              "      <th>TroponinI</th>\n",
              "      <th>ABPs</th>\n",
              "      <th>pH</th>\n",
              "    </tr>\n",
              "  </thead>\n",
              "  <tbody>\n",
              "    <tr>\n",
              "      <th>0</th>\n",
              "      <td>1</td>\n",
              "      <td>3</td>\n",
              "      <td>34.0</td>\n",
              "      <td>NaN</td>\n",
              "      <td>NaN</td>\n",
              "      <td>12.0</td>\n",
              "      <td>NaN</td>\n",
              "      <td>36.0</td>\n",
              "      <td>8.7</td>\n",
              "      <td>24.0</td>\n",
              "      <td>-2.0</td>\n",
              "      <td>16.0</td>\n",
              "      <td>NaN</td>\n",
              "      <td>NaN</td>\n",
              "      <td>6.3</td>\n",
              "      <td>NaN</td>\n",
              "      <td>45.0</td>\n",
              "      <td>NaN</td>\n",
              "      <td>NaN</td>\n",
              "      <td>NaN</td>\n",
              "      <td>NaN</td>\n",
              "      <td>NaN</td>\n",
              "      <td>84.0</td>\n",
              "      <td>1.2</td>\n",
              "      <td>3.8</td>\n",
              "      <td>61.0</td>\n",
              "      <td>NaN</td>\n",
              "      <td>NaN</td>\n",
              "      <td>100.0</td>\n",
              "      <td>NaN</td>\n",
              "      <td>114.0</td>\n",
              "      <td>24.6</td>\n",
              "      <td>94.0</td>\n",
              "      <td>NaN</td>\n",
              "      <td>NaN</td>\n",
              "      <td>142.0</td>\n",
              "      <td>7.33</td>\n",
              "    </tr>\n",
              "  </tbody>\n",
              "</table>\n",
              "</div>"
            ],
            "text/plain": [
              "   pid  Time   Age  EtCO2  ...  Bilirubin_total  TroponinI   ABPs    pH\n",
              "0    1     3  34.0    NaN  ...              NaN        NaN  142.0  7.33\n",
              "\n",
              "[1 rows x 37 columns]"
            ]
          },
          "metadata": {
            "tags": []
          },
          "execution_count": 8
        }
      ]
    },
    {
      "cell_type": "code",
      "metadata": {
        "colab": {
          "base_uri": "https://localhost:8080/",
          "height": 100
        },
        "id": "IKnAPAXjQcqi",
        "outputId": "229b0b40-a107-4a05-f75f-24661acf4720"
      },
      "source": [
        "testFeatPD = pd.read_csv(testFeatUrl)\n",
        "testFeatPD.head(1)"
      ],
      "execution_count": null,
      "outputs": [
        {
          "output_type": "execute_result",
          "data": {
            "text/html": [
              "<div>\n",
              "<style scoped>\n",
              "    .dataframe tbody tr th:only-of-type {\n",
              "        vertical-align: middle;\n",
              "    }\n",
              "\n",
              "    .dataframe tbody tr th {\n",
              "        vertical-align: top;\n",
              "    }\n",
              "\n",
              "    .dataframe thead th {\n",
              "        text-align: right;\n",
              "    }\n",
              "</style>\n",
              "<table border=\"1\" class=\"dataframe\">\n",
              "  <thead>\n",
              "    <tr style=\"text-align: right;\">\n",
              "      <th></th>\n",
              "      <th>pid</th>\n",
              "      <th>Time</th>\n",
              "      <th>Age</th>\n",
              "      <th>EtCO2</th>\n",
              "      <th>PTT</th>\n",
              "      <th>BUN</th>\n",
              "      <th>Lactate</th>\n",
              "      <th>Temp</th>\n",
              "      <th>Hgb</th>\n",
              "      <th>HCO3</th>\n",
              "      <th>BaseExcess</th>\n",
              "      <th>RRate</th>\n",
              "      <th>Fibrinogen</th>\n",
              "      <th>Phosphate</th>\n",
              "      <th>WBC</th>\n",
              "      <th>Creatinine</th>\n",
              "      <th>PaCO2</th>\n",
              "      <th>AST</th>\n",
              "      <th>FiO2</th>\n",
              "      <th>Platelets</th>\n",
              "      <th>SaO2</th>\n",
              "      <th>Glucose</th>\n",
              "      <th>ABPm</th>\n",
              "      <th>Magnesium</th>\n",
              "      <th>Potassium</th>\n",
              "      <th>ABPd</th>\n",
              "      <th>Calcium</th>\n",
              "      <th>Alkalinephos</th>\n",
              "      <th>SpO2</th>\n",
              "      <th>Bilirubin_direct</th>\n",
              "      <th>Chloride</th>\n",
              "      <th>Hct</th>\n",
              "      <th>Heartrate</th>\n",
              "      <th>Bilirubin_total</th>\n",
              "      <th>TroponinI</th>\n",
              "      <th>ABPs</th>\n",
              "      <th>pH</th>\n",
              "    </tr>\n",
              "  </thead>\n",
              "  <tbody>\n",
              "    <tr>\n",
              "      <th>0</th>\n",
              "      <td>0</td>\n",
              "      <td>1</td>\n",
              "      <td>39.0</td>\n",
              "      <td>NaN</td>\n",
              "      <td>NaN</td>\n",
              "      <td>NaN</td>\n",
              "      <td>NaN</td>\n",
              "      <td>NaN</td>\n",
              "      <td>NaN</td>\n",
              "      <td>NaN</td>\n",
              "      <td>NaN</td>\n",
              "      <td>NaN</td>\n",
              "      <td>NaN</td>\n",
              "      <td>NaN</td>\n",
              "      <td>NaN</td>\n",
              "      <td>NaN</td>\n",
              "      <td>NaN</td>\n",
              "      <td>NaN</td>\n",
              "      <td>NaN</td>\n",
              "      <td>NaN</td>\n",
              "      <td>NaN</td>\n",
              "      <td>NaN</td>\n",
              "      <td>NaN</td>\n",
              "      <td>NaN</td>\n",
              "      <td>NaN</td>\n",
              "      <td>NaN</td>\n",
              "      <td>NaN</td>\n",
              "      <td>NaN</td>\n",
              "      <td>NaN</td>\n",
              "      <td>NaN</td>\n",
              "      <td>NaN</td>\n",
              "      <td>NaN</td>\n",
              "      <td>NaN</td>\n",
              "      <td>NaN</td>\n",
              "      <td>NaN</td>\n",
              "      <td>NaN</td>\n",
              "      <td>NaN</td>\n",
              "    </tr>\n",
              "  </tbody>\n",
              "</table>\n",
              "</div>"
            ],
            "text/plain": [
              "   pid  Time   Age  EtCO2  PTT  ...  Heartrate  Bilirubin_total  TroponinI  ABPs  pH\n",
              "0    0     1  39.0    NaN  NaN  ...        NaN              NaN        NaN   NaN NaN\n",
              "\n",
              "[1 rows x 37 columns]"
            ]
          },
          "metadata": {
            "tags": []
          },
          "execution_count": 9
        }
      ]
    },
    {
      "cell_type": "code",
      "metadata": {
        "id": "13IFAs2V8ve3",
        "colab": {
          "base_uri": "https://localhost:8080/",
          "height": 131
        },
        "outputId": "40c025b3-498f-4673-8463-72faf74b850e"
      },
      "source": [
        "trainLblPD = pd.read_csv(trainLblUrl)\n",
        "trainLblPD.head(2)"
      ],
      "execution_count": null,
      "outputs": [
        {
          "output_type": "execute_result",
          "data": {
            "text/html": [
              "<div>\n",
              "<style scoped>\n",
              "    .dataframe tbody tr th:only-of-type {\n",
              "        vertical-align: middle;\n",
              "    }\n",
              "\n",
              "    .dataframe tbody tr th {\n",
              "        vertical-align: top;\n",
              "    }\n",
              "\n",
              "    .dataframe thead th {\n",
              "        text-align: right;\n",
              "    }\n",
              "</style>\n",
              "<table border=\"1\" class=\"dataframe\">\n",
              "  <thead>\n",
              "    <tr style=\"text-align: right;\">\n",
              "      <th></th>\n",
              "      <th>pid</th>\n",
              "      <th>LABEL_BaseExcess</th>\n",
              "      <th>LABEL_Fibrinogen</th>\n",
              "      <th>LABEL_AST</th>\n",
              "      <th>LABEL_Alkalinephos</th>\n",
              "      <th>LABEL_Bilirubin_total</th>\n",
              "      <th>LABEL_Lactate</th>\n",
              "      <th>LABEL_TroponinI</th>\n",
              "      <th>LABEL_SaO2</th>\n",
              "      <th>LABEL_Bilirubin_direct</th>\n",
              "      <th>LABEL_EtCO2</th>\n",
              "      <th>LABEL_Sepsis</th>\n",
              "      <th>LABEL_RRate</th>\n",
              "      <th>LABEL_ABPm</th>\n",
              "      <th>LABEL_SpO2</th>\n",
              "      <th>LABEL_Heartrate</th>\n",
              "    </tr>\n",
              "  </thead>\n",
              "  <tbody>\n",
              "    <tr>\n",
              "      <th>0</th>\n",
              "      <td>1</td>\n",
              "      <td>1.0</td>\n",
              "      <td>0.0</td>\n",
              "      <td>0.0</td>\n",
              "      <td>0.0</td>\n",
              "      <td>0.0</td>\n",
              "      <td>1.0</td>\n",
              "      <td>0.0</td>\n",
              "      <td>0.0</td>\n",
              "      <td>0.0</td>\n",
              "      <td>0.0</td>\n",
              "      <td>0.0</td>\n",
              "      <td>12.1</td>\n",
              "      <td>85.4</td>\n",
              "      <td>100.0</td>\n",
              "      <td>59.9</td>\n",
              "    </tr>\n",
              "    <tr>\n",
              "      <th>1</th>\n",
              "      <td>10</td>\n",
              "      <td>0.0</td>\n",
              "      <td>0.0</td>\n",
              "      <td>0.0</td>\n",
              "      <td>0.0</td>\n",
              "      <td>0.0</td>\n",
              "      <td>0.0</td>\n",
              "      <td>0.0</td>\n",
              "      <td>0.0</td>\n",
              "      <td>0.0</td>\n",
              "      <td>0.0</td>\n",
              "      <td>0.0</td>\n",
              "      <td>17.8</td>\n",
              "      <td>100.6</td>\n",
              "      <td>95.5</td>\n",
              "      <td>85.5</td>\n",
              "    </tr>\n",
              "  </tbody>\n",
              "</table>\n",
              "</div>"
            ],
            "text/plain": [
              "   pid  LABEL_BaseExcess  ...  LABEL_SpO2  LABEL_Heartrate\n",
              "0    1               1.0  ...       100.0             59.9\n",
              "1   10               0.0  ...        95.5             85.5\n",
              "\n",
              "[2 rows x 16 columns]"
            ]
          },
          "metadata": {
            "tags": []
          },
          "execution_count": 10
        }
      ]
    },
    {
      "cell_type": "markdown",
      "metadata": {
        "id": "DULuvRtfywrb"
      },
      "source": [
        "First we notice the difference in times, hence change that"
      ]
    },
    {
      "cell_type": "code",
      "metadata": {
        "id": "j4uPDGKfv8Q5",
        "colab": {
          "base_uri": "https://localhost:8080/"
        },
        "outputId": "98dfd941-dd19-4b71-d784-6a2b53889a2a"
      },
      "source": [
        "np.sort(trainFeatPD_raw[\"Time\"])[-50:]\n"
      ],
      "execution_count": null,
      "outputs": [
        {
          "output_type": "execute_result",
          "data": {
            "text/plain": [
              "array([ 31,  31,  31,  31,  32,  32,  32,  32,  32,  32,  33,  33,  33,\n",
              "        33,  33,  34,  34,  34,  34,  34,  35,  35,  35,  36,  36,  37,\n",
              "       269, 270, 271, 272, 273, 274, 275, 276, 277, 278, 279, 280, 304,\n",
              "       305, 306, 307, 308, 309, 310, 311, 312, 313, 314, 315])"
            ]
          },
          "metadata": {
            "tags": []
          },
          "execution_count": 11
        }
      ]
    },
    {
      "cell_type": "markdown",
      "metadata": {
        "id": "QDZPUc-pQgFo"
      },
      "source": [
        "The align_times does exactly that, as we have \"the first 12 hours in ICU\". This takes for 300000 entries already ~15 on colab though..."
      ]
    },
    {
      "cell_type": "code",
      "metadata": {
        "id": "pW2ZIPNzzI1y",
        "colab": {
          "base_uri": "https://localhost:8080/",
          "height": 148
        },
        "outputId": "fa9d9317-604d-4c93-87d7-e5a01e54de2d"
      },
      "source": [
        "def align_times():\n",
        "  print(f\"len of train {len(trainFeatPD_raw)}/12 = {len(trainFeatPD_raw)/12} i.e. len%12 == 0\")\n",
        "  assert len(trainFeatPD_raw)%12 == 0, \"We do not have 12 hours for each patient!\"\n",
        "\n",
        "  trainFeatPD_raw.sort_values([\"pid\", \"Time\"], ascending=[True, True], inplace=True, ignore_index=True)\n",
        "  for idx, _ in trainFeatPD_raw.iterrows():\n",
        "    i = idx % 12 + 1\n",
        "    trainFeatPD_raw.at[idx, 'Time'] = i\n",
        "\n",
        "align_times()\n",
        "trainFeatPD_raw.head(2)"
      ],
      "execution_count": null,
      "outputs": [
        {
          "output_type": "stream",
          "text": [
            "len of train 227940/12 = 18995.0 i.e. len%12 == 0\n"
          ],
          "name": "stdout"
        },
        {
          "output_type": "execute_result",
          "data": {
            "text/html": [
              "<div>\n",
              "<style scoped>\n",
              "    .dataframe tbody tr th:only-of-type {\n",
              "        vertical-align: middle;\n",
              "    }\n",
              "\n",
              "    .dataframe tbody tr th {\n",
              "        vertical-align: top;\n",
              "    }\n",
              "\n",
              "    .dataframe thead th {\n",
              "        text-align: right;\n",
              "    }\n",
              "</style>\n",
              "<table border=\"1\" class=\"dataframe\">\n",
              "  <thead>\n",
              "    <tr style=\"text-align: right;\">\n",
              "      <th></th>\n",
              "      <th>pid</th>\n",
              "      <th>Time</th>\n",
              "      <th>Age</th>\n",
              "      <th>EtCO2</th>\n",
              "      <th>PTT</th>\n",
              "      <th>BUN</th>\n",
              "      <th>Lactate</th>\n",
              "      <th>Temp</th>\n",
              "      <th>Hgb</th>\n",
              "      <th>HCO3</th>\n",
              "      <th>BaseExcess</th>\n",
              "      <th>RRate</th>\n",
              "      <th>Fibrinogen</th>\n",
              "      <th>Phosphate</th>\n",
              "      <th>WBC</th>\n",
              "      <th>Creatinine</th>\n",
              "      <th>PaCO2</th>\n",
              "      <th>AST</th>\n",
              "      <th>FiO2</th>\n",
              "      <th>Platelets</th>\n",
              "      <th>SaO2</th>\n",
              "      <th>Glucose</th>\n",
              "      <th>ABPm</th>\n",
              "      <th>Magnesium</th>\n",
              "      <th>Potassium</th>\n",
              "      <th>ABPd</th>\n",
              "      <th>Calcium</th>\n",
              "      <th>Alkalinephos</th>\n",
              "      <th>SpO2</th>\n",
              "      <th>Bilirubin_direct</th>\n",
              "      <th>Chloride</th>\n",
              "      <th>Hct</th>\n",
              "      <th>Heartrate</th>\n",
              "      <th>Bilirubin_total</th>\n",
              "      <th>TroponinI</th>\n",
              "      <th>ABPs</th>\n",
              "      <th>pH</th>\n",
              "    </tr>\n",
              "  </thead>\n",
              "  <tbody>\n",
              "    <tr>\n",
              "      <th>0</th>\n",
              "      <td>1</td>\n",
              "      <td>1</td>\n",
              "      <td>34.0</td>\n",
              "      <td>NaN</td>\n",
              "      <td>NaN</td>\n",
              "      <td>12.0</td>\n",
              "      <td>NaN</td>\n",
              "      <td>36.0</td>\n",
              "      <td>8.7</td>\n",
              "      <td>24.0</td>\n",
              "      <td>-2.0</td>\n",
              "      <td>16.0</td>\n",
              "      <td>NaN</td>\n",
              "      <td>NaN</td>\n",
              "      <td>6.3</td>\n",
              "      <td>NaN</td>\n",
              "      <td>45.0</td>\n",
              "      <td>NaN</td>\n",
              "      <td>NaN</td>\n",
              "      <td>NaN</td>\n",
              "      <td>NaN</td>\n",
              "      <td>NaN</td>\n",
              "      <td>84.0</td>\n",
              "      <td>1.2</td>\n",
              "      <td>3.8</td>\n",
              "      <td>61.0</td>\n",
              "      <td>NaN</td>\n",
              "      <td>NaN</td>\n",
              "      <td>100.0</td>\n",
              "      <td>NaN</td>\n",
              "      <td>114.0</td>\n",
              "      <td>24.6</td>\n",
              "      <td>94.0</td>\n",
              "      <td>NaN</td>\n",
              "      <td>NaN</td>\n",
              "      <td>142.0</td>\n",
              "      <td>7.33</td>\n",
              "    </tr>\n",
              "    <tr>\n",
              "      <th>1</th>\n",
              "      <td>1</td>\n",
              "      <td>2</td>\n",
              "      <td>34.0</td>\n",
              "      <td>NaN</td>\n",
              "      <td>NaN</td>\n",
              "      <td>NaN</td>\n",
              "      <td>NaN</td>\n",
              "      <td>36.0</td>\n",
              "      <td>NaN</td>\n",
              "      <td>NaN</td>\n",
              "      <td>-2.0</td>\n",
              "      <td>16.0</td>\n",
              "      <td>NaN</td>\n",
              "      <td>NaN</td>\n",
              "      <td>NaN</td>\n",
              "      <td>NaN</td>\n",
              "      <td>NaN</td>\n",
              "      <td>NaN</td>\n",
              "      <td>0.5</td>\n",
              "      <td>NaN</td>\n",
              "      <td>NaN</td>\n",
              "      <td>NaN</td>\n",
              "      <td>81.0</td>\n",
              "      <td>NaN</td>\n",
              "      <td>NaN</td>\n",
              "      <td>62.5</td>\n",
              "      <td>NaN</td>\n",
              "      <td>NaN</td>\n",
              "      <td>100.0</td>\n",
              "      <td>NaN</td>\n",
              "      <td>NaN</td>\n",
              "      <td>NaN</td>\n",
              "      <td>99.0</td>\n",
              "      <td>NaN</td>\n",
              "      <td>NaN</td>\n",
              "      <td>125.0</td>\n",
              "      <td>7.33</td>\n",
              "    </tr>\n",
              "  </tbody>\n",
              "</table>\n",
              "</div>"
            ],
            "text/plain": [
              "   pid  Time   Age  EtCO2  ...  Bilirubin_total  TroponinI   ABPs    pH\n",
              "0    1     1  34.0    NaN  ...              NaN        NaN  142.0  7.33\n",
              "1    1     2  34.0    NaN  ...              NaN        NaN  125.0  7.33\n",
              "\n",
              "[2 rows x 37 columns]"
            ]
          },
          "metadata": {
            "tags": []
          },
          "execution_count": 12
        }
      ]
    },
    {
      "cell_type": "markdown",
      "metadata": {
        "id": "4VJ-FjmeR8-C"
      },
      "source": [
        "We have an incredible amount of NaN, hence we have to do some more preprocessing.  \n",
        "Trying to follow [Working with Missing Data in Machine Learning](https://towardsdatascience.com/working-with-missing-data-in-machine-learning-9c0a430df4ce)"
      ]
    },
    {
      "cell_type": "code",
      "metadata": {
        "id": "USNJI6mWSPYw",
        "colab": {
          "base_uri": "https://localhost:8080/"
        },
        "outputId": "a997f5ad-1e86-430d-c0d2-bd6d952ca732"
      },
      "source": [
        "percentMiss = trainFeatPD_raw.isnull().sum()/len(trainFeatPD_raw)*100\n",
        "print(f\"Amount of NaNs for some per col in %:\\n{percentMiss.tail()}\")\n",
        "print(f\"That means we have max {np.sort(trainFeatPD_raw.isnull().sum()/len(trainFeatPD_raw)*100)[-1:]}% missing for some...\")"
      ],
      "execution_count": null,
      "outputs": [
        {
          "output_type": "stream",
          "text": [
            "Amount of NaNs for some per col in %:\n",
            "Heartrate          12.201457\n",
            "Bilirubin_total    97.663420\n",
            "TroponinI          98.343424\n",
            "ABPs               15.920856\n",
            "pH                 89.012021\n",
            "dtype: float64\n",
            "That means we have max [99.68456611]% missing for some...\n"
          ],
          "name": "stdout"
        }
      ]
    },
    {
      "cell_type": "code",
      "metadata": {
        "colab": {
          "base_uri": "https://localhost:8080/",
          "height": 349
        },
        "id": "adV7I8F_iTNr",
        "outputId": "10f53b22-4be0-4504-c212-536ce7b7388d"
      },
      "source": [
        "print(f\"Our max age is {trainFeatPD_raw['Age'].max()} and min is {trainFeatPD_raw['Age'].min()}.\")\n",
        "bins = 10\n",
        "print(f\"Let's go with {bins} bins for histogramm and KNN Imputer.\")\n",
        "trainFeatPD_raw.hist(column='Age', bins=bins)"
      ],
      "execution_count": null,
      "outputs": [
        {
          "output_type": "stream",
          "text": [
            "Our max age is 100.0 and min is 15.0.\n",
            "Let's go with 10 bins for histogramm and KNN Imputer.\n"
          ],
          "name": "stdout"
        },
        {
          "output_type": "execute_result",
          "data": {
            "text/plain": [
              "array([[<matplotlib.axes._subplots.AxesSubplot object at 0x7fc6e88000d0>]],\n",
              "      dtype=object)"
            ]
          },
          "metadata": {
            "tags": []
          },
          "execution_count": 23
        },
        {
          "output_type": "display_data",
          "data": {
            "image/png": "[encoded data removed]",
            "text/plain": [
              "<Figure size 432x288 with 1 Axes>"
            ]
          },
          "metadata": {
            "tags": [],
            "needs_background": "light"
          }
        }
      ]
    },
    {
      "cell_type": "markdown",
      "metadata": {
        "id": "CBHI08O_kBYA"
      },
      "source": [
        "Looks like we have quite a nice distribution for the age, hence doing some media imputation sounds doable, let's see.  \n",
        "  \n",
        "Two options are Simple or KNN. The simple imputer with mean or median does not look good on our data at all, as we have soo much missing data. On the other hand the KNN imputer does not make sense at all as our data is so far apart value wise and hence takes forever to converge, if at all."
      ]
    },
    {
      "cell_type": "code",
      "metadata": {
        "colab": {
          "base_uri": "https://localhost:8080/",
          "height": 197
        },
        "id": "3H6JhYqiiTMV",
        "outputId": "82f441b3-f5b4-4b35-d97f-fe1f4b031505"
      },
      "source": [
        "def impute(fromDF, KNN=False):\n",
        "  if KNN:\n",
        "    imputer = KNNImputer(n_neighbors=2) # Basically never converges\n",
        "  imputer = SimpleImputer(missing_values=np.nan, strategy='median') # Looks really bad...\n",
        "  trainFeatPD = pd.DataFrame(imputer.fit_transform(fromDF), columns=fromDF.columns)\n",
        "  retrunt\n",
        "trainFeatPD = impute(trainFeatPD_raw)\n",
        "trainFeatPD.head(5)"
      ],
      "execution_count": null,
      "outputs": [
        {
          "output_type": "error",
          "ename": "AttributeError",
          "evalue": "ignored",
          "traceback": [
            "\u001b[0;31m---------------------------------------------------------------------------\u001b[0m",
            "\u001b[0;31mAttributeError\u001b[0m                            Traceback (most recent call last)",
            "\u001b[0;32m<ipython-input-58-608a1277e0fc>\u001b[0m in \u001b[0;36m<module>\u001b[0;34m()\u001b[0m\n\u001b[1;32m      6\u001b[0m \u001b[0;34m\u001b[0m\u001b[0m\n\u001b[1;32m      7\u001b[0m \u001b[0mtrainFeatPD\u001b[0m \u001b[0;34m=\u001b[0m \u001b[0mimpute\u001b[0m\u001b[0;34m(\u001b[0m\u001b[0mtrainFeatPD_raw\u001b[0m\u001b[0;34m)\u001b[0m\u001b[0;34m\u001b[0m\u001b[0;34m\u001b[0m\u001b[0m\n\u001b[0;32m----> 8\u001b[0;31m \u001b[0mtrainFeatPD\u001b[0m\u001b[0;34m.\u001b[0m\u001b[0mhead\u001b[0m\u001b[0;34m(\u001b[0m\u001b[0;36m5\u001b[0m\u001b[0;34m)\u001b[0m\u001b[0;34m\u001b[0m\u001b[0;34m\u001b[0m\u001b[0m\n\u001b[0m",
            "\u001b[0;31mAttributeError\u001b[0m: 'NoneType' object has no attribute 'head'"
          ]
        }
      ]
    },
    {
      "cell_type": "markdown",
      "metadata": {
        "id": "jsHtnyT5-3dl"
      },
      "source": [
        "Normalizing data necessary/bad/good?"
      ]
    },
    {
      "cell_type": "code",
      "metadata": {
        "id": "bv9CCmvk-3Pl",
        "colab": {
          "base_uri": "https://localhost:8080/",
          "height": 224
        },
        "outputId": "b16b4103-9ca7-4e67-bbd8-73548ec6839e"
      },
      "source": [
        "def normalize(fromDF, notIn=[\"pid\", \"Time\", \"Age\"]):\n",
        "  # first create scalar\n",
        "  scaler = StandardScaler()\n",
        "  # do it\n",
        "  listNormalize = [lbl for lbl in fromDF.columns if lbl not in notIn]\n",
        "  normalized = fromDF.copy()\n",
        "  features = normalized[listNormalize]\n",
        "  features = scaler.fit_transform(features.values)\n",
        "  normalized[listNormalize] = features\n",
        "  return normalized\n",
        "\n",
        "trainFeatPD_normalized = normalize(trainFeatPD)\n",
        "trainFeatPD_normalized.head(5)"
      ],
      "execution_count": null,
      "outputs": [
        {
          "output_type": "execute_result",
          "data": {
            "text/html": [
              "<div>\n",
              "<style scoped>\n",
              "    .dataframe tbody tr th:only-of-type {\n",
              "        vertical-align: middle;\n",
              "    }\n",
              "\n",
              "    .dataframe tbody tr th {\n",
              "        vertical-align: top;\n",
              "    }\n",
              "\n",
              "    .dataframe thead th {\n",
              "        text-align: right;\n",
              "    }\n",
              "</style>\n",
              "<table border=\"1\" class=\"dataframe\">\n",
              "  <thead>\n",
              "    <tr style=\"text-align: right;\">\n",
              "      <th></th>\n",
              "      <th>pid</th>\n",
              "      <th>Time</th>\n",
              "      <th>Age</th>\n",
              "      <th>EtCO2</th>\n",
              "      <th>PTT</th>\n",
              "      <th>BUN</th>\n",
              "      <th>Lactate</th>\n",
              "      <th>Temp</th>\n",
              "      <th>Hgb</th>\n",
              "      <th>HCO3</th>\n",
              "      <th>BaseExcess</th>\n",
              "      <th>RRate</th>\n",
              "      <th>Fibrinogen</th>\n",
              "      <th>Phosphate</th>\n",
              "      <th>WBC</th>\n",
              "      <th>Creatinine</th>\n",
              "      <th>PaCO2</th>\n",
              "      <th>AST</th>\n",
              "      <th>FiO2</th>\n",
              "      <th>Platelets</th>\n",
              "      <th>SaO2</th>\n",
              "      <th>Glucose</th>\n",
              "      <th>ABPm</th>\n",
              "      <th>Magnesium</th>\n",
              "      <th>Potassium</th>\n",
              "      <th>ABPd</th>\n",
              "      <th>Calcium</th>\n",
              "      <th>Alkalinephos</th>\n",
              "      <th>SpO2</th>\n",
              "      <th>Bilirubin_direct</th>\n",
              "      <th>Chloride</th>\n",
              "      <th>Hct</th>\n",
              "      <th>Heartrate</th>\n",
              "      <th>Bilirubin_total</th>\n",
              "      <th>TroponinI</th>\n",
              "      <th>ABPs</th>\n",
              "      <th>pH</th>\n",
              "    </tr>\n",
              "  </thead>\n",
              "  <tbody>\n",
              "    <tr>\n",
              "      <th>0</th>\n",
              "      <td>1</td>\n",
              "      <td>1</td>\n",
              "      <td>34.0</td>\n",
              "      <td>NaN</td>\n",
              "      <td>NaN</td>\n",
              "      <td>-0.558968</td>\n",
              "      <td>NaN</td>\n",
              "      <td>-0.973706</td>\n",
              "      <td>-0.929341</td>\n",
              "      <td>0.116246</td>\n",
              "      <td>-0.181444</td>\n",
              "      <td>-0.427643</td>\n",
              "      <td>NaN</td>\n",
              "      <td>NaN</td>\n",
              "      <td>-0.539088</td>\n",
              "      <td>NaN</td>\n",
              "      <td>0.434989</td>\n",
              "      <td>NaN</td>\n",
              "      <td>NaN</td>\n",
              "      <td>NaN</td>\n",
              "      <td>NaN</td>\n",
              "      <td>NaN</td>\n",
              "      <td>0.114300</td>\n",
              "      <td>-1.839007</td>\n",
              "      <td>-0.526339</td>\n",
              "      <td>-0.216573</td>\n",
              "      <td>NaN</td>\n",
              "      <td>NaN</td>\n",
              "      <td>0.838622</td>\n",
              "      <td>NaN</td>\n",
              "      <td>1.308314</td>\n",
              "      <td>-1.158184</td>\n",
              "      <td>0.537177</td>\n",
              "      <td>NaN</td>\n",
              "      <td>NaN</td>\n",
              "      <td>0.843444</td>\n",
              "      <td>-0.500542</td>\n",
              "    </tr>\n",
              "    <tr>\n",
              "      <th>1</th>\n",
              "      <td>1</td>\n",
              "      <td>2</td>\n",
              "      <td>34.0</td>\n",
              "      <td>NaN</td>\n",
              "      <td>NaN</td>\n",
              "      <td>NaN</td>\n",
              "      <td>NaN</td>\n",
              "      <td>-0.973706</td>\n",
              "      <td>NaN</td>\n",
              "      <td>NaN</td>\n",
              "      <td>-0.181444</td>\n",
              "      <td>-0.427643</td>\n",
              "      <td>NaN</td>\n",
              "      <td>NaN</td>\n",
              "      <td>NaN</td>\n",
              "      <td>NaN</td>\n",
              "      <td>NaN</td>\n",
              "      <td>NaN</td>\n",
              "      <td>-0.008224</td>\n",
              "      <td>NaN</td>\n",
              "      <td>NaN</td>\n",
              "      <td>NaN</td>\n",
              "      <td>-0.067829</td>\n",
              "      <td>NaN</td>\n",
              "      <td>NaN</td>\n",
              "      <td>-0.108815</td>\n",
              "      <td>NaN</td>\n",
              "      <td>NaN</td>\n",
              "      <td>0.838622</td>\n",
              "      <td>NaN</td>\n",
              "      <td>NaN</td>\n",
              "      <td>NaN</td>\n",
              "      <td>0.820569</td>\n",
              "      <td>NaN</td>\n",
              "      <td>NaN</td>\n",
              "      <td>0.113008</td>\n",
              "      <td>-0.500542</td>\n",
              "    </tr>\n",
              "    <tr>\n",
              "      <th>2</th>\n",
              "      <td>1</td>\n",
              "      <td>3</td>\n",
              "      <td>34.0</td>\n",
              "      <td>NaN</td>\n",
              "      <td>NaN</td>\n",
              "      <td>NaN</td>\n",
              "      <td>NaN</td>\n",
              "      <td>-0.973706</td>\n",
              "      <td>NaN</td>\n",
              "      <td>NaN</td>\n",
              "      <td>0.295591</td>\n",
              "      <td>-0.030582</td>\n",
              "      <td>NaN</td>\n",
              "      <td>NaN</td>\n",
              "      <td>NaN</td>\n",
              "      <td>NaN</td>\n",
              "      <td>0.211016</td>\n",
              "      <td>NaN</td>\n",
              "      <td>-0.012302</td>\n",
              "      <td>NaN</td>\n",
              "      <td>NaN</td>\n",
              "      <td>NaN</td>\n",
              "      <td>-0.492797</td>\n",
              "      <td>NaN</td>\n",
              "      <td>NaN</td>\n",
              "      <td>-0.360251</td>\n",
              "      <td>NaN</td>\n",
              "      <td>NaN</td>\n",
              "      <td>0.838622</td>\n",
              "      <td>NaN</td>\n",
              "      <td>NaN</td>\n",
              "      <td>NaN</td>\n",
              "      <td>0.423820</td>\n",
              "      <td>NaN</td>\n",
              "      <td>NaN</td>\n",
              "      <td>-0.531494</td>\n",
              "      <td>0.037220</td>\n",
              "    </tr>\n",
              "    <tr>\n",
              "      <th>3</th>\n",
              "      <td>1</td>\n",
              "      <td>4</td>\n",
              "      <td>34.0</td>\n",
              "      <td>NaN</td>\n",
              "      <td>NaN</td>\n",
              "      <td>NaN</td>\n",
              "      <td>NaN</td>\n",
              "      <td>0.168959</td>\n",
              "      <td>NaN</td>\n",
              "      <td>NaN</td>\n",
              "      <td>0.295591</td>\n",
              "      <td>-0.030582</td>\n",
              "      <td>NaN</td>\n",
              "      <td>NaN</td>\n",
              "      <td>NaN</td>\n",
              "      <td>NaN</td>\n",
              "      <td>NaN</td>\n",
              "      <td>NaN</td>\n",
              "      <td>NaN</td>\n",
              "      <td>NaN</td>\n",
              "      <td>NaN</td>\n",
              "      <td>NaN</td>\n",
              "      <td>-0.978475</td>\n",
              "      <td>NaN</td>\n",
              "      <td>NaN</td>\n",
              "      <td>-1.042720</td>\n",
              "      <td>NaN</td>\n",
              "      <td>NaN</td>\n",
              "      <td>0.838622</td>\n",
              "      <td>NaN</td>\n",
              "      <td>NaN</td>\n",
              "      <td>NaN</td>\n",
              "      <td>0.197107</td>\n",
              "      <td>NaN</td>\n",
              "      <td>NaN</td>\n",
              "      <td>-0.789295</td>\n",
              "      <td>0.037220</td>\n",
              "    </tr>\n",
              "    <tr>\n",
              "      <th>4</th>\n",
              "      <td>1</td>\n",
              "      <td>5</td>\n",
              "      <td>34.0</td>\n",
              "      <td>NaN</td>\n",
              "      <td>NaN</td>\n",
              "      <td>NaN</td>\n",
              "      <td>NaN</td>\n",
              "      <td>NaN</td>\n",
              "      <td>NaN</td>\n",
              "      <td>NaN</td>\n",
              "      <td>NaN</td>\n",
              "      <td>-0.030582</td>\n",
              "      <td>NaN</td>\n",
              "      <td>NaN</td>\n",
              "      <td>NaN</td>\n",
              "      <td>NaN</td>\n",
              "      <td>NaN</td>\n",
              "      <td>NaN</td>\n",
              "      <td>NaN</td>\n",
              "      <td>NaN</td>\n",
              "      <td>NaN</td>\n",
              "      <td>NaN</td>\n",
              "      <td>-1.160604</td>\n",
              "      <td>-0.466868</td>\n",
              "      <td>NaN</td>\n",
              "      <td>-1.150478</td>\n",
              "      <td>NaN</td>\n",
              "      <td>NaN</td>\n",
              "      <td>0.838622</td>\n",
              "      <td>NaN</td>\n",
              "      <td>NaN</td>\n",
              "      <td>-1.539445</td>\n",
              "      <td>-0.199642</td>\n",
              "      <td>NaN</td>\n",
              "      <td>NaN</td>\n",
              "      <td>-0.961162</td>\n",
              "      <td>0.574982</td>\n",
              "    </tr>\n",
              "  </tbody>\n",
              "</table>\n",
              "</div>"
            ],
            "text/plain": [
              "   pid  Time   Age  EtCO2  ...  Bilirubin_total  TroponinI      ABPs        pH\n",
              "0    1     1  34.0    NaN  ...              NaN        NaN  0.843444 -0.500542\n",
              "1    1     2  34.0    NaN  ...              NaN        NaN  0.113008 -0.500542\n",
              "2    1     3  34.0    NaN  ...              NaN        NaN -0.531494  0.037220\n",
              "3    1     4  34.0    NaN  ...              NaN        NaN -0.789295  0.037220\n",
              "4    1     5  34.0    NaN  ...              NaN        NaN -0.961162  0.574982\n",
              "\n",
              "[5 rows x 37 columns]"
            ]
          },
          "metadata": {
            "tags": []
          },
          "execution_count": 57
        }
      ]
    },
    {
      "cell_type": "code",
      "metadata": {
        "id": "hFcRLPh4sTcR"
      },
      "source": [
        "VITALS = ['LABEL_RRate', 'LABEL_ABPm', 'LABEL_SpO2', 'LABEL_Heartrate']\n",
        "TESTS = ['LABEL_BaseExcess', 'LABEL_Fibrinogen', 'LABEL_AST','LABEL_Alkalinephos',\n",
        "         'LABEL_Bilirubin_total', 'LABEL_Lactate', 'LABEL_TroponinI', 'LABEL_SaO2',\n",
        "         'LABEL_Bilirubin_direct', 'LABEL_EtCO2']"
      ],
      "execution_count": null,
      "outputs": []
    },
    {
      "cell_type": "markdown",
      "metadata": {
        "id": "3uGzAiEWQ2a2"
      },
      "source": [
        "Now let's try to do a): ORDERING OF MEDICAL TEST  \n",
        "Binary classification: 0 means that there will be no further tests of this kind ordered whereas 1 means that at least one is ordered in the remaining stay.\n",
        "\n",
        "The corresponding columns containing the binary ground truth in train_labels are the TESTS array.\n",
        "\n",
        "For the scoring function use [sklearn.metric.roc_auc_score](https://scikit-learn.org/stable/modules/generated/sklearn.metrics.roc_auc_score.html#sklearn.metrics.roc_auc_score)."
      ]
    },
    {
      "cell_type": "code",
      "metadata": {
        "id": "PWvdyf_eRQ3I",
        "colab": {
          "base_uri": "https://localhost:8080/"
        },
        "outputId": "d20364c4-63b1-400b-a935-1f21e8a94fd2"
      },
      "source": [
        "# TODO train for a)\n",
        "for lbl in TESTS:\n",
        "  # this is the binary classifier for lbl\n",
        "  Y = trainLblPD[[\"pid\", lbl]]\n",
        "  print(Y.head())\n",
        "  X = trainFeatPD\n",
        "  break"
      ],
      "execution_count": null,
      "outputs": [
        {
          "output_type": "stream",
          "text": [
            "     pid  LABEL_BaseExcess\n",
            "0      1               1.0\n",
            "1     10               0.0\n",
            "2    100               1.0\n",
            "3   1000               0.0\n",
            "4  10000               0.0\n"
          ],
          "name": "stdout"
        }
      ]
    },
    {
      "cell_type": "markdown",
      "metadata": {
        "id": "c0V95NOqsM_D"
      },
      "source": [
        "The following is modified from score_submission.py"
      ]
    },
    {
      "cell_type": "code",
      "metadata": {
        "id": "gjEjBktXswye"
      },
      "source": [
        "def get_score(df_true, df_submission):\n",
        "    df_submission = df_submission.sort_values('pid')\n",
        "    df_true = df_true.sort_values('pid')\n",
        "    task1 = np.mean([metrics.roc_auc_score(df_true[entry], df_submission[entry]) for entry in TESTS])\n",
        "    task2 = metrics.roc_auc_score(df_true['LABEL_Sepsis'], df_submission['LABEL_Sepsis'])\n",
        "    task3 = np.mean([0.5 + 0.5 * np.maximum(0, metrics.r2_score(df_true[entry], df_submission[entry])) for entry in VITALS])\n",
        "    score = np.mean([task1, task2, task3])\n",
        "    print(f\"total score is {score} where the individual scores are {task1}, {task2}, {task3}\")\n",
        "    return score"
      ],
      "execution_count": null,
      "outputs": []
    },
    {
      "cell_type": "markdown",
      "metadata": {
        "id": "RJjtPn8YstIy"
      },
      "source": [
        "This is to output the final zip to be downloaded"
      ]
    },
    {
      "cell_type": "code",
      "metadata": {
        "id": "vvyuMd0XbWu6"
      },
      "source": [
        "filename = \"testOut.zip\"\n",
        "res.to_csv(filename, index=False, float_format='%.3f', compression='zip')"
      ],
      "execution_count": null,
      "outputs": []
    },
    {
      "cell_type": "markdown",
      "metadata": {
        "id": "w-ySncgcusD_"
      },
      "source": [
        "Run the score_submission to test if it works."
      ]
    },
    {
      "cell_type": "code",
      "metadata": {
        "id": "F0PHsrZ3uoEM"
      },
      "source": [
        "# filename = 'sample.csv'\n",
        "df_submission = pd.read_csv(filename)\n",
        "\n",
        "# generate a baseline based on sample.zip\n",
        "df_true = pd.read_csv(filename)\n",
        "for label in TESTS + ['LABEL_Sepsis']:\n",
        "    # round classification labels\n",
        "    df_true[label] = np.around(df_true[label].values)\n",
        "\n",
        "get_score(df_true, df_submission)"
      ],
      "execution_count": null,
      "outputs": []
    }
  ]
}